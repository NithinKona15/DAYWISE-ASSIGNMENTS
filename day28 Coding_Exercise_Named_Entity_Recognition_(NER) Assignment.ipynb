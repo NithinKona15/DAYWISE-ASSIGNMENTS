{
 "cells": [
  {
   "cell_type": "markdown",
   "id": "36de4c32",
   "metadata": {},
   "source": [
    "day28 Write a Python program to perform Named Entity Recognition (NER) on a given text using SpaCy. Print the entities and their types."
   ]
  },
  {
   "cell_type": "code",
   "execution_count": 1,
   "id": "d6e6610f",
   "metadata": {},
   "outputs": [
    {
     "name": "stdout",
     "output_type": "stream",
     "text": [
      "Entity: Apple, Type: ORG\n",
      "Entity: UK, Type: GPE\n",
      "Entity: $1 billion, Type: MONEY\n",
      "Entity: 2023, Type: DATE\n"
     ]
    }
   ],
   "source": [
    "import spacy\n",
    "\n",
    "# Load the SpaCy model for English\n",
    "nlp = spacy.load(\"en_core_web_sm\")\n",
    "\n",
    "def perform_ner(text):\n",
    "    # Process the input text with SpaCy\n",
    "    doc = nlp(text)\n",
    "    \n",
    "    # Print the entities and their types\n",
    "    for ent in doc.ents:\n",
    "        print(f\"Entity: {ent.text}, Type: {ent.label_}\")\n",
    "\n",
    "# Example text\n",
    "text = \"Apple is looking to buy a startup in the UK for $1 billion by 2023.\"\n",
    "\n",
    "# Perform Named Entity Recognition (NER)\n",
    "perform_ner(text)\n"
   ]
  },
  {
   "cell_type": "code",
   "execution_count": null,
   "id": "482fdce1",
   "metadata": {},
   "outputs": [],
   "source": []
  }
 ],
 "metadata": {
  "kernelspec": {
   "display_name": "Python 3 (ipykernel)",
   "language": "python",
   "name": "python3"
  },
  "language_info": {
   "codemirror_mode": {
    "name": "ipython",
    "version": 3
   },
   "file_extension": ".py",
   "mimetype": "text/x-python",
   "name": "python",
   "nbconvert_exporter": "python",
   "pygments_lexer": "ipython3",
   "version": "3.11.5"
  }
 },
 "nbformat": 4,
 "nbformat_minor": 5
}
