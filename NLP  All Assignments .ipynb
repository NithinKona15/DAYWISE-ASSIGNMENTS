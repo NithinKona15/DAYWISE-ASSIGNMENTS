{
 "cells": [
  {
   "cell_type": "markdown",
   "id": "0295bdc3",
   "metadata": {},
   "source": [
    "### NLP  All Assignments "
   ]
  },
  {
   "cell_type": "markdown",
   "id": "2f0d4b91",
   "metadata": {},
   "source": [
    "day 1.Q Write a program in Jupyter Notebook to declare variables of different data types (integer, float, string, and boolean). Print each variable and its type.\n"
   ]
  },
  {
   "cell_type": "code",
   "execution_count": 21,
   "id": "9aa203af",
   "metadata": {},
   "outputs": [
    {
     "name": "stdout",
     "output_type": "stream",
     "text": [
      "Integer Variable:\n",
      "Value: 25 | Type: <class 'int'>\n",
      "\n",
      "Float Variable:\n",
      "Value: 3.14 | Type: <class 'float'>\n",
      "\n",
      "String Variable:\n",
      "Value: Hello, World! | Type: <class 'str'>\n",
      "\n",
      "Boolean Variable:\n",
      "Value: True | Type: <class 'bool'>\n"
     ]
    }
   ],
   "source": [
    "integer_var = 25              # Integer\n",
    "float_var = 3.14              # Float\n",
    "string_var = \"Hello, World!\"  # String\n",
    "boolean_var = True            # Boolean\n",
    "\n",
    "print(\"Integer Variable:\")\n",
    "print(\"Value:\", integer_var, \"| Type:\", type(integer_var))\n",
    "\n",
    "print(\"\\nFloat Variable:\")\n",
    "print(\"Value:\", float_var, \"| Type:\", type(float_var))\n",
    "\n",
    "print(\"\\nString Variable:\")\n",
    "print(\"Value:\", string_var, \"| Type:\", type(string_var))\n",
    "\n",
    "print(\"\\nBoolean Variable:\")\n",
    "print(\"Value:\", boolean_var, \"| Type:\", type(boolean_var))"
   ]
  },
  {
   "cell_type": "markdown",
   "id": "29ff2a55",
   "metadata": {},
   "source": [
    "day2 Create a List, tuple and Dictionary with 5 elements in it and how to access few elements based on the index. Try  with different examples \n"
   ]
  },
  {
   "cell_type": "code",
   "execution_count": 20,
   "id": "5e0aa686",
   "metadata": {},
   "outputs": [
    {
     "name": "stdout",
     "output_type": "stream",
     "text": [
      "List Elements: [10, 20, 30, 40, 50]\n",
      "First element of the list: 10\n",
      "Third element of the list: 30\n",
      "Last element of the list: 50\n",
      "\n",
      "Tuple Elements: ('apple', 'banana', 'cherry', 'date', 'elderberry')\n",
      "Second element of the tuple: banana\n",
      "Fourth element of the tuple: date\n",
      "\n",
      "Dictionary Elements: {'name': 'Alice', 'age': 25, 'city': 'New York', 'profession': 'Engineer', 'hobby': 'Photography'}\n",
      "Value for key 'name': Alice\n",
      "Value for key 'city': New York\n"
     ]
    }
   ],
   "source": [
    "#2Q Create a List, tuple and Dictionary with 5 elements in it and how to access few elements based on the index. Try  with different examples \n",
    "\n",
    "# List with 5 elements\n",
    "my_list = [10, 20, 30, 40, 50]\n",
    "print(\"List Elements:\", my_list)\n",
    "\n",
    "# Accessing elements by index\n",
    "print(\"First element of the list:\", my_list[0])\n",
    "print(\"Third element of the list:\", my_list[2])\n",
    "print(\"Last element of the list:\", my_list[-1])\n",
    "\n",
    "# Tuple with 5 elements\n",
    "my_tuple = ('apple', 'banana', 'cherry', 'date', 'elderberry')\n",
    "print(\"\\nTuple Elements:\", my_tuple)\n",
    "\n",
    "# Accessing elements by index\n",
    "print(\"Second element of the tuple:\", my_tuple[1])\n",
    "print(\"Fourth element of the tuple:\", my_tuple[3])\n",
    "\n",
    "# Dictionary with 5 key-value pairs\n",
    "my_dict = {'name': 'Alice', 'age': 25, 'city': 'New York', 'profession': 'Engineer', 'hobby': 'Photography'}\n",
    "print(\"\\nDictionary Elements:\", my_dict)\n",
    "\n",
    "# Accessing elements by key\n",
    "print(\"Value for key 'name':\", my_dict['name'])\n",
    "print(\"Value for key 'city':\", my_dict['city'])"
   ]
  },
  {
   "cell_type": "markdown",
   "id": "81693a60",
   "metadata": {},
   "source": [
    "day3 Write a Python program that takes a student's marks in three subjects as input.\n",
    "#1)If the average is greater than or equal to 90, print \"Grade: A\". 2)If the average is between 80 and 89, print \"Grade: B\". 3)If the average is between 70 and 79, print \"Grade: C\". 4)Otherwise, print \"Grade: Fail\".\n"
   ]
  },
  {
   "cell_type": "code",
   "execution_count": 23,
   "id": "d10df2bf",
   "metadata": {},
   "outputs": [
    {
     "name": "stdout",
     "output_type": "stream",
     "text": [
      "Enter marks for Subject 1: 60\n",
      "Enter marks for Subject 2: 67\n",
      "Enter marks for Subject 3: 81\n",
      "Grade: Fail\n"
     ]
    }
   ],
   "source": [
    "#3Q. Write a Python program that takes a student's marks in three subjects as input.\n",
    "#1)If the average is greater than or equal to 90, print \"Grade: A\". 2)If the average is between 80 and 89, print \"Grade: B\". 3)If the average is between 70 and 79, print \"Grade: C\". 4)Otherwise, print \"Grade: Fail\".\n",
    "\n",
    "# Input: Student's marks in three subjects\n",
    "subject1 = float(input(\"Enter marks for Subject 1: \"))\n",
    "subject2 = float(input(\"Enter marks for Subject 2: \"))\n",
    "subject3 = float(input(\"Enter marks for Subject 3: \"))\n",
    "\n",
    "# Calculate average\n",
    "average = (subject1 + subject2 + subject3) / 3\n",
    "\n",
    "# Determine grade based on average\n",
    "if average >= 90:\n",
    "    print(\"Grade: A\")\n",
    "elif 80 <= average < 90:\n",
    "    print(\"Grade: B\")\n",
    "elif 70 <= average < 80:\n",
    "    print(\"Grade: C\")\n",
    "else:\n",
    "    print(\"Grade: Fail\")"
   ]
  },
  {
   "cell_type": "markdown",
   "id": "71e97241",
   "metadata": {},
   "source": [
    "day4 Write a Python program to calculate the sum of all even numbers between 1 and a given positive integer n\n"
   ]
  },
  {
   "cell_type": "code",
   "execution_count": 24,
   "id": "25f07dec",
   "metadata": {},
   "outputs": [
    {
     "name": "stdout",
     "output_type": "stream",
     "text": [
      "Enter a positive integer to calculate even numberS till the given number 20\n",
      "Sum of even number till 20  is  110\n"
     ]
    }
   ],
   "source": [
    "#Q4. Write a Python program to calculate the sum of all even numbers between 1 and a given positive integer n\n",
    "\n",
    "def sum_of_even_integers(n):\n",
    "    sum=0\n",
    "    for i in range(1,n+1):\n",
    "        if i%2==0:\n",
    "            sum+=i\n",
    "    return sum\n",
    "\n",
    "n=int(input(\"Enter a positive integer to calculate even numberS till the given number \"))   \n",
    "result=sum_of_even_integers(n)\n",
    "print(f\"Sum of even number till {n}  is \",result)"
   ]
  },
  {
   "cell_type": "markdown",
   "id": "4ab8a2f6",
   "metadata": {},
   "source": [
    "day 5. Write a Python program to calculate the frequency of each word in a given text. Print the\n",
    "words and their corresponding counts"
   ]
  },
  {
   "cell_type": "code",
   "execution_count": 38,
   "id": "666d4fa2",
   "metadata": {},
   "outputs": [
    {
     "name": "stdout",
     "output_type": "stream",
     "text": [
      "Enter a text: ton the ton the won the \n",
      "['ton', 'the', 'ton', 'the', 'won', 'the']\n",
      "ton: 2\n",
      "the: 3\n",
      "won: 1\n"
     ]
    }
   ],
   "source": [
    "# Input: Text from the user\n",
    "text = input(\"Enter a text: \")\n",
    "\n",
    "# Split the text into words\n",
    "words = text.split()\n",
    "print(words)\n",
    "wordfreq={}\n",
    "for word in words:\n",
    "    if word not in wordfreq:\n",
    "        wordfreq[word]=0\n",
    "    wordfreq[word]+=1\n",
    "for word, count in wordfreq.items():\n",
    "    print(f\"{word}: {count}\")"
   ]
  },
  {
   "cell_type": "markdown",
   "id": "0e69f606",
   "metadata": {},
   "source": [
    "#day7 Write a Python program to using NLTK and Spacy Convert text to lowercase. Remove stopwords using NLTK\n"
   ]
  },
  {
   "cell_type": "code",
   "execution_count": 1,
   "id": "968e00ea",
   "metadata": {
    "scrolled": true
   },
   "outputs": [
    {
     "name": "stderr",
     "output_type": "stream",
     "text": [
      "[nltk_data] Downloading package stopwords to\n",
      "[nltk_data]     C:\\Users\\edbid\\AppData\\Roaming\\nltk_data...\n",
      "[nltk_data]   Package stopwords is already up-to-date!\n"
     ]
    },
    {
     "name": "stdout",
     "output_type": "stream",
     "text": [
      "Enter the text: world earth day is celebrated every year on \n",
      "Filtered text (tokens without stopwords):\n",
      "world earth day celebrated every year\n"
     ]
    }
   ],
   "source": [
    "import nltk\n",
    "from nltk.corpus import stopwords\n",
    "import spacy\n",
    "nltk.download('stopwords')\n",
    "\n",
    "# Load NLTK stopwords\n",
    "nltk_stopwords = set(stopwords.words('english'))\n",
    "\n",
    "nlp = spacy.load(\"en_core_web_sm\")\n",
    "text = input(\"Enter the text: \")\n",
    "\n",
    "# Convert text to lowercase using spaCy\n",
    "doc = nlp(text.lower())\n",
    "filtered_tokens = [token.text for token in doc if token.text not in nltk_stopwords and not token.is_punct]\n",
    "print(\"Filtered text (tokens without stopwords):\")\n",
    "print(\" \".join(filtered_tokens))\n"
   ]
  },
  {
   "cell_type": "markdown",
   "id": "d209359c",
   "metadata": {},
   "source": [
    "day9 Write a Python script that: Use Genism to preprocess data from a sample text file, follow basic procedures like tokenization, stemming, lemmatization etc."
   ]
  },
  {
   "cell_type": "code",
   "execution_count": 4,
   "id": "e9c418f1",
   "metadata": {},
   "outputs": [
    {
     "name": "stderr",
     "output_type": "stream",
     "text": [
      "[nltk_data] Downloading package wordnet to\n",
      "[nltk_data]     C:\\Users\\edbid\\AppData\\Roaming\\nltk_data...\n",
      "[nltk_data]   Package wordnet is already up-to-date!\n",
      "[nltk_data] Downloading package omw-1.4 to\n",
      "[nltk_data]     C:\\Users\\edbid\\AppData\\Roaming\\nltk_data...\n",
      "[nltk_data]   Package omw-1.4 is already up-to-date!\n"
     ]
    },
    {
     "name": "stdout",
     "output_type": "stream",
     "text": [
      "Tokenized Text: ['natural', 'language', 'processing', 'nlp', 'is', 'fascinating', 'domain', 'of', 'artificial', 'intelligence', 'that', 'focuses', 'on', 'the', 'interaction', 'between', 'computers', 'and', 'human', 'language', 'it', 'involves', 'breaking', 'down', 'text', 'into', 'smaller', 'components', 'such', 'as', 'words', 'or', 'sentences', 'through', 'tokenization', 'additionally', 'processes', 'like', 'stemming', 'and', 'lemmatization', 'help', 'reduce', 'words', 'to', 'their', 'base', 'forms', 'ensuring', 'consistency', 'in', 'analysis', 'applications', 'of', 'nlp', 'include', 'chatbots', 'sentiment', 'analysis', 'language', 'translation', 'and', 'more', 'the', 'ability', 'to', 'process', 'and', 'understand', 'natural', 'language', 'opens', 'up', 'world', 'of', 'possibilities', 'for', 'making', 'technology', 'smarter', 'and', 'more', 'accessible', 'to', 'users']\n",
      "Text after Removing Stopwords: ['natural', 'language', 'processing', 'nlp', 'fascinating', 'domain', 'artificial', 'intelligence', 'focuses', 'interaction', 'computers', 'human', 'language', 'involves', 'breaking', 'text', 'smaller', 'components', 'words', 'sentences', 'tokenization', 'additionally', 'processes', 'like', 'stemming', 'lemmatization', 'help', 'reduce', 'words', 'base', 'forms', 'ensuring', 'consistency', 'analysis', 'applications', 'nlp', 'include', 'chatbots', 'sentiment', 'analysis', 'language', 'translation', 'ability', 'process', 'understand', 'natural', 'language', 'opens', 'world', 'possibilities', 'making', 'technology', 'smarter', 'accessible', 'users']\n",
      "Text after Stemming: ['natur', 'languag', 'process', 'nlp', 'fascin', 'domain', 'artifici', 'intellig', 'focus', 'interact', 'comput', 'human', 'languag', 'involv', 'break', 'text', 'smaller', 'compon', 'word', 'sentenc', 'token', 'addition', 'process', 'like', 'stem', 'lemmat', 'help', 'reduc', 'word', 'base', 'form', 'ensur', 'consist', 'analysi', 'applic', 'nlp', 'includ', 'chatbot', 'sentiment', 'analysi', 'languag', 'translat', 'abil', 'process', 'understand', 'natur', 'languag', 'open', 'world', 'possibl', 'make', 'technolog', 'smarter', 'access', 'user']\n",
      "Text after Lemmatization: ['natural', 'language', 'processing', 'nlp', 'fascinating', 'domain', 'artificial', 'intelligence', 'focus', 'interaction', 'computer', 'human', 'language', 'involves', 'breaking', 'text', 'smaller', 'component', 'word', 'sentence', 'tokenization', 'additionally', 'process', 'like', 'stemming', 'lemmatization', 'help', 'reduce', 'word', 'base', 'form', 'ensuring', 'consistency', 'analysis', 'application', 'nlp', 'include', 'chatbots', 'sentiment', 'analysis', 'language', 'translation', 'ability', 'process', 'understand', 'natural', 'language', 'open', 'world', 'possibility', 'making', 'technology', 'smarter', 'accessible', 'user']\n",
      "Final Preprocessed Text: natural language processing nlp fascinating domain artificial intelligence focus interaction computer human language involves breaking text smaller component word sentence tokenization additionally process like stemming lemmatization help reduce word base form ensuring consistency analysis application nlp include chatbots sentiment analysis language translation ability process understand natural language open world possibility making technology smarter accessible user\n"
     ]
    }
   ],
   "source": [
    "from gensim.utils import simple_preprocess\n",
    "from gensim.parsing.preprocessing import STOPWORDS, preprocess_string, remove_stopwords\n",
    "from gensim.parsing.porter import PorterStemmer\n",
    "from nltk.stem import WordNetLemmatizer\n",
    "import nltk\n",
    "\n",
    "# Download NLTK data for lemmatization\n",
    "nltk.download('wordnet')\n",
    "nltk.download('omw-1.4')\n",
    "\n",
    "# Initialize stemmer and lemmatizer\n",
    "stemmer = PorterStemmer()\n",
    "lemmatizer = WordNetLemmatizer()\n",
    "\n",
    "# Load sample text from a file\n",
    "file_path = \"sample_text.txt\"  # Replace with your text file path\n",
    "with open(file_path, 'r', encoding='utf-8') as file:\n",
    "    text = file.read()\n",
    "\n",
    "# Step 1: Tokenization using Gensim\n",
    "tokens = simple_preprocess(text)\n",
    "print(\"Tokenized Text:\", tokens)\n",
    "\n",
    "# Step 2: Remove Stopwords using Gensim\n",
    "filtered_tokens = [word for word in tokens if word not in STOPWORDS]\n",
    "print(\"Text after Removing Stopwords:\", filtered_tokens)\n",
    "\n",
    "# Step 3: Apply Stemming using Gensim's PorterStemmer\n",
    "stemmed_tokens = [stemmer.stem(word) for word in filtered_tokens]\n",
    "print(\"Text after Stemming:\", stemmed_tokens)\n",
    "\n",
    "# Step 4: Apply Lemmatization using NLTK's WordNetLemmatizer\n",
    "lemmatized_tokens = [lemmatizer.lemmatize(word) for word in filtered_tokens]\n",
    "print(\"Text after Lemmatization:\", lemmatized_tokens)\n",
    "\n",
    "# Step 5: Combine back to a single preprocessed text (optional)\n",
    "preprocessed_text = \" \".join(lemmatized_tokens)\n",
    "print(\"Final Preprocessed Text:\", preprocessed_text)\n"
   ]
  },
  {
   "cell_type": "markdown",
   "id": "2bc59bf0",
   "metadata": {},
   "source": [
    "#day11 Write a Python script that: Tokenizes a sample paragraph into words and sentences."
   ]
  },
  {
   "cell_type": "code",
   "execution_count": 3,
   "id": "74b04423",
   "metadata": {},
   "outputs": [
    {
     "name": "stderr",
     "output_type": "stream",
     "text": [
      "[nltk_data] Downloading package punkt to\n",
      "[nltk_data]     C:\\Users\\edbid\\AppData\\Roaming\\nltk_data...\n",
      "[nltk_data]   Package punkt is already up-to-date!\n",
      "[nltk_data] Downloading package punkt_tab to\n",
      "[nltk_data]     C:\\Users\\edbid\\AppData\\Roaming\\nltk_data...\n",
      "[nltk_data]   Package punkt_tab is already up-to-date!\n"
     ]
    },
    {
     "name": "stdout",
     "output_type": "stream",
     "text": [
      "Tokenized Sentences:\n",
      "1: \n",
      "Natural Language Processing (NLP) is an exciting field of artificial intelligence.\n",
      "2: It focuses on the interaction between computers and human language.\n",
      "3: By using tokenization, stemming, and lemmatization, NLP enables better text analysis.\n",
      "4: Applications include chatbots, sentiment analysis, and language translation.\n",
      "\n",
      "Tokenized Words:\n",
      "['Natural', 'Language', 'Processing', '(', 'NLP', ')', 'is', 'an', 'exciting', 'field', 'of', 'artificial', 'intelligence', '.', 'It', 'focuses', 'on', 'the', 'interaction', 'between', 'computers', 'and', 'human', 'language', '.', 'By', 'using', 'tokenization', ',', 'stemming', ',', 'and', 'lemmatization', ',', 'NLP', 'enables', 'better', 'text', 'analysis', '.', 'Applications', 'include', 'chatbots', ',', 'sentiment', 'analysis', ',', 'and', 'language', 'translation', '.']\n"
     ]
    }
   ],
   "source": [
    "import nltk\n",
    "\n",
    "# Download required NLTK data\n",
    "nltk.download('punkt')\n",
    "nltk.download('punkt_tab')\n",
    "# Sample paragraph\n",
    "paragraph = \"\"\"\n",
    "Natural Language Processing (NLP) is an exciting field of artificial intelligence.\n",
    "It focuses on the interaction between computers and human language.\n",
    "By using tokenization, stemming, and lemmatization, NLP enables better text analysis.\n",
    "Applications include chatbots, sentiment analysis, and language translation.\n",
    "\"\"\"\n",
    "\n",
    "# Tokenize into sentences\n",
    "sentences = nltk.sent_tokenize(paragraph)\n",
    "print(\"Tokenized Sentences:\")\n",
    "for idx, sentence in enumerate(sentences, 1):\n",
    "    print(f\"{idx}: {sentence}\")\n",
    "\n",
    "# Tokenize into words\n",
    "words = nltk.word_tokenize(paragraph)\n",
    "print(\"\\nTokenized Words:\")\n",
    "print(words)\n"
   ]
  },
  {
   "cell_type": "markdown",
   "id": "b1172d9f",
   "metadata": {},
   "source": [
    "day13 Write a Python function to clean a given text by removing special characters and converting it to lowercase. Test it with the input: 'Hello, World! Welcome to NLP 101.'\n",
    "\n"
   ]
  },
  {
   "cell_type": "code",
   "execution_count": 5,
   "id": "b4426f72",
   "metadata": {},
   "outputs": [
    {
     "name": "stdout",
     "output_type": "stream",
     "text": [
      "Original Text: Hello, World! Welcome to NLP 101.\n",
      "Cleaned Text: hello world welcome to nlp 101\n"
     ]
    }
   ],
   "source": [
    "import re\n",
    "\n",
    "def clean_text(text):\n",
    "    \"\"\"\n",
    "    Cleans the input text by:\n",
    "    - Removing special characters\n",
    "    - Converting to lowercase\n",
    "    \"\"\"\n",
    "    # Remove special characters using a regular expression\n",
    "    cleaned_text = re.sub(r'[^A-Za-z0-9\\s]', '', text)\n",
    "    # Convert to lowercase\n",
    "    cleaned_text = cleaned_text.lower()\n",
    "    return cleaned_text\n",
    "\n",
    "# Test the function\n",
    "input_text = 'Hello, World! Welcome to NLP 101.'\n",
    "cleaned_output = clean_text(input_text)\n",
    "print(\"Original Text:\", input_text)\n",
    "print(\"Cleaned Text:\", cleaned_output)\n"
   ]
  },
  {
   "cell_type": "markdown",
   "id": "03cf4a62",
   "metadata": {},
   "source": [
    "day15 Write a Python function using regular expressions to extract all email addresses from a given string. Test it with the input: 'Contact us at support@example.com and sales@example.org.'"
   ]
  },
  {
   "cell_type": "code",
   "execution_count": 6,
   "id": "047dc07b",
   "metadata": {},
   "outputs": [
    {
     "name": "stdout",
     "output_type": "stream",
     "text": [
      "Extracted Emails: ['support@example.com', 'sales@example.org']\n"
     ]
    }
   ],
   "source": [
    "import re\n",
    "\n",
    "def extract_emails(text):\n",
    "    \"\"\"\n",
    "    Extracts all email addresses from the given text using regular expressions.\n",
    "    \"\"\"\n",
    "    # Regular expression pattern for matching email addresses\n",
    "    email_pattern = r'[a-zA-Z0-9._%+-]+@[a-zA-Z0-9.-]+\\.[a-zA-Z]{2,}'\n",
    "    # Find all matches in the text\n",
    "    emails = re.findall(email_pattern, text)\n",
    "    return emails\n",
    "\n",
    "# Test the function\n",
    "input_text = 'Contact us at support@example.com and sales@example.org.'\n",
    "emails = extract_emails(input_text)\n",
    "print(\"Extracted Emails:\", emails)\n"
   ]
  },
  {
   "cell_type": "markdown",
   "id": "9caee6dd",
   "metadata": {},
   "source": [
    "day18 Write a Python script to fetch and print the title of a webpage using the 'requests' and 'BeautifulSoup' libraries. Test it with the URL: 'https://example.com'.\n"
   ]
  },
  {
   "cell_type": "code",
   "execution_count": 7,
   "id": "bbabed44",
   "metadata": {},
   "outputs": [
    {
     "name": "stdout",
     "output_type": "stream",
     "text": [
      "Webpage Title: Example Domain\n"
     ]
    }
   ],
   "source": [
    "import requests\n",
    "from bs4 import BeautifulSoup\n",
    "\n",
    "def fetch_webpage_title(url):\n",
    "    \"\"\"\n",
    "    Fetches and prints the title of a webpage.\n",
    "    \"\"\"\n",
    "    try:\n",
    "        # Send an HTTP GET request to the specified URL\n",
    "        response = requests.get(url)\n",
    "        # Check if the request was successful\n",
    "        response.raise_for_status()\n",
    "        \n",
    "        # Parse the webpage content with BeautifulSoup\n",
    "        soup = BeautifulSoup(response.text, 'html.parser')\n",
    "        \n",
    "        # Extract and return the title\n",
    "        title = soup.title.string if soup.title else \"No title found\"\n",
    "        return title\n",
    "    except requests.exceptions.RequestException as e:\n",
    "        return f\"An error occurred: {e}\"\n",
    "\n",
    "# Test the function\n",
    "url = 'https://example.com'\n",
    "webpage_title = fetch_webpage_title(url)\n",
    "print(\"Webpage Title:\", webpage_title)\n"
   ]
  },
  {
   "cell_type": "markdown",
   "id": "fba652c2",
   "metadata": {},
   "source": [
    "day20 Write a Python script to generate a WordCloud from the text: 'data science machine learning artificial intelligence'. Save the WordCloud as an image."
   ]
  },
  {
   "cell_type": "code",
   "execution_count": 9,
   "id": "9472c456",
   "metadata": {},
   "outputs": [
    {
     "data": {
      "image/png": "[encoded data removed]",
      "text/plain": [
       "<Figure size 800x400 with 1 Axes>"
      ]
     },
     "metadata": {},
     "output_type": "display_data"
    },
    {
     "name": "stdout",
     "output_type": "stream",
     "text": [
      "WordCloud image saved as 'wordcloud_image.png'.\n"
     ]
    }
   ],
   "source": [
    "# Install necessary libraries\n",
    "# pip install wordcloud matplotlib\n",
    "\n",
    "from wordcloud import WordCloud\n",
    "import matplotlib.pyplot as plt\n",
    "\n",
    "def generate_wordcloud(text):\n",
    "    \"\"\"\n",
    "    Generate and save a wordcloud image from the given text.\n",
    "    \"\"\"\n",
    "    # Create a WordCloud object\n",
    "    wordcloud = WordCloud(width=800, height=400, background_color='white').generate(text)\n",
    "    \n",
    "    # Display the WordCloud\n",
    "    plt.figure(figsize=(8, 4))\n",
    "    plt.imshow(wordcloud, interpolation='bilinear')\n",
    "    plt.axis('off')  # Turn off axis\n",
    "    plt.show()\n",
    "    \n",
    "    # Save the WordCloud image\n",
    "    wordcloud.to_file(\"wordcloud_image.png\")\n",
    "    print(\"WordCloud image saved as 'wordcloud_image.png'.\")\n",
    "\n",
    "# Test the function with the given text\n",
    "text = 'data science machine learning artificial intelligence'\n",
    "generate_wordcloud(text)\n"
   ]
  },
  {
   "cell_type": "markdown",
   "id": "097c8729",
   "metadata": {},
   "source": [
    "day 22 Write a Python script to perform part-of-speech tagging on the sentence: 'NLP is amazing and fun to learn.' using SpaCy."
   ]
  },
  {
   "cell_type": "code",
   "execution_count": 8,
   "id": "6e59ab3c",
   "metadata": {},
   "outputs": [
    {
     "name": "stdout",
     "output_type": "stream",
     "text": [
      "Token    POS       Detailed POS  Explanation\n",
      "---------------------------------------------\n",
      "NLP        PROPN      NNP        noun, proper singular\n",
      "is         AUX        VBZ        verb, 3rd person singular present\n",
      "amazing    ADJ        JJ         adjective (English), other noun-modifier (Chinese)\n",
      "and        CCONJ      CC         conjunction, coordinating\n",
      "fun        ADJ        JJ         adjective (English), other noun-modifier (Chinese)\n",
      "to         PART       TO         infinitival \"to\"\n",
      "learn      VERB       VB         verb, base form\n",
      ".          PUNCT      .          punctuation mark, sentence closer\n"
     ]
    }
   ],
   "source": [
    "import spacy\n",
    "\n",
    "def pos_tagging(sentence):\n",
    "    \"\"\"\n",
    "    Perform part-of-speech tagging on the given sentence using SpaCy.\n",
    "    \"\"\"\n",
    "    # Load the SpaCy English model\n",
    "    nlp = spacy.load(\"en_core_web_sm\")\n",
    "    \n",
    "    # Process the sentence\n",
    "    doc = nlp(sentence)\n",
    "    \n",
    "    # Print each token and its part-of-speech tag\n",
    "    for token in doc:\n",
    "        print(f\"{token.text:10} {token.pos_:10} {token.tag_:10} {spacy.explain(token.tag_)}\")\n",
    "\n",
    "# Test the function\n",
    "sentence = 'NLP is amazing and fun to learn.'\n",
    "print(\"Token    POS       Detailed POS  Explanation\")\n",
    "print(\"---------------------------------------------\")\n",
    "pos_tagging(sentence)\n"
   ]
  },
  {
   "cell_type": "markdown",
   "id": "a0812e02",
   "metadata": {},
   "source": [
    "day24 Write a Python program to load a text file, tokenize the text using NLTK, and display the 10 most common words. Use the NLTK library for tokenization.\n"
   ]
  },
  {
   "cell_type": "code",
   "execution_count": 10,
   "id": "ee8f606f",
   "metadata": {},
   "outputs": [
    {
     "name": "stdout",
     "output_type": "stream",
     "text": [
      "The 10 most common words are:\n",
      "language: 4\n",
      "natural: 2\n",
      "nlp: 2\n",
      "words: 2\n",
      "analysis: 2\n",
      "processing: 1\n",
      "fascinating: 1\n",
      "domain: 1\n",
      "artificial: 1\n",
      "intelligence: 1\n"
     ]
    },
    {
     "name": "stderr",
     "output_type": "stream",
     "text": [
      "[nltk_data] Downloading package punkt to\n",
      "[nltk_data]     C:\\Users\\edbid\\AppData\\Roaming\\nltk_data...\n",
      "[nltk_data]   Package punkt is already up-to-date!\n",
      "[nltk_data] Downloading package stopwords to\n",
      "[nltk_data]     C:\\Users\\edbid\\AppData\\Roaming\\nltk_data...\n",
      "[nltk_data]   Package stopwords is already up-to-date!\n"
     ]
    }
   ],
   "source": [
    "# Install the necessary NLTK library\n",
    "# pip install nltk\n",
    "\n",
    "import nltk\n",
    "from nltk.corpus import stopwords\n",
    "from nltk.tokenize import word_tokenize\n",
    "from collections import Counter\n",
    "\n",
    "# Download required NLTK resources\n",
    "nltk.download('punkt')\n",
    "nltk.download('stopwords')\n",
    "\n",
    "def load_and_tokenize(file_path):\n",
    "    # Load the text file\n",
    "    with open(file_path, 'r') as file:\n",
    "        text = file.read()\n",
    "    \n",
    "    # Tokenize the text into words\n",
    "    words = word_tokenize(text.lower())  # Convert to lowercase for uniformity\n",
    "    \n",
    "    # Remove punctuation and stopwords\n",
    "    stop_words = set(stopwords.words('english'))\n",
    "    words = [word for word in words if word.isalnum() and word not in stop_words]\n",
    "    \n",
    "    return words\n",
    "\n",
    "def get_most_common_words(words, n=10):\n",
    "    # Get the most common words\n",
    "    word_counts = Counter(words)\n",
    "    return word_counts.most_common(n)\n",
    "\n",
    "file_path = 'sample_text.txt'  # Replace with your file path\n",
    "words = load_and_tokenize(file_path)\n",
    "common_words = get_most_common_words(words)\n",
    "\n",
    "print(\"The 10 most common words are:\")\n",
    "for word, count in common_words:\n",
    "    print(f\"{word}: {count}\")\n"
   ]
  },
  {
   "cell_type": "markdown",
   "id": "f2b2fef7",
   "metadata": {},
   "source": [
    "day26 Write a Python program to calculate the cosine similarity between two strings using the Scikit-learn library. You can use the 'TfidfVectorizer' class to transform the text into vectors."
   ]
  },
  {
   "cell_type": "code",
   "execution_count": 11,
   "id": "88e875f7",
   "metadata": {},
   "outputs": [
    {
     "name": "stdout",
     "output_type": "stream",
     "text": [
      "Cosine Similarity between the two strings: 0.2606\n"
     ]
    }
   ],
   "source": [
    "from sklearn.feature_extraction.text import TfidfVectorizer\n",
    "from sklearn.metrics.pairwise import cosine_similarity\n",
    "\n",
    "def calculate_cosine_similarity(str1, str2):\n",
    "    # Initialize TfidfVectorizer\n",
    "    vectorizer = TfidfVectorizer()\n",
    "\n",
    "    # Convert the two input strings into TF-IDF vectors\n",
    "    tfidf_matrix = vectorizer.fit_transform([str1, str2])\n",
    "\n",
    "    # Compute the cosine similarity between the two vectors\n",
    "    cosine_sim = cosine_similarity(tfidf_matrix[0], tfidf_matrix[1])\n",
    "\n",
    "    return cosine_sim[0][0]\n",
    "\n",
    "# Example usage\n",
    "str1 = \"I love programming in Python.\"\n",
    "str2 = \"Python programming is fun and exciting.\"\n",
    "\n",
    "similarity = calculate_cosine_similarity(str1, str2)\n",
    "\n",
    "print(f\"Cosine Similarity between the two strings: {similarity:.4f}\")\n"
   ]
  },
  {
   "cell_type": "markdown",
   "id": "8c22ce5b",
   "metadata": {},
   "source": [
    "day28 Write a Python program to perform Named Entity Recognition (NER) on a given text using SpaCy. Print the entities and their types."
   ]
  },
  {
   "cell_type": "code",
   "execution_count": 12,
   "id": "4ff4c1ee",
   "metadata": {},
   "outputs": [
    {
     "name": "stdout",
     "output_type": "stream",
     "text": [
      "Entity: Apple, Type: ORG\n",
      "Entity: UK, Type: GPE\n",
      "Entity: $1 billion, Type: MONEY\n",
      "Entity: 2023, Type: DATE\n"
     ]
    }
   ],
   "source": [
    "import spacy\n",
    "\n",
    "# Load the SpaCy model for English\n",
    "nlp = spacy.load(\"en_core_web_sm\")\n",
    "\n",
    "def perform_ner(text):\n",
    "    # Process the input text with SpaCy\n",
    "    doc = nlp(text)\n",
    "    \n",
    "    # Print the entities and their types\n",
    "    for ent in doc.ents:\n",
    "        print(f\"Entity: {ent.text}, Type: {ent.label_}\")\n",
    "\n",
    "# Example text\n",
    "text = \"Apple is looking to buy a startup in the UK for $1 billion by 2023.\"\n",
    "\n",
    "# Perform Named Entity Recognition (NER)\n",
    "perform_ner(text)\n"
   ]
  },
  {
   "cell_type": "markdown",
   "id": "61a9641a",
   "metadata": {},
   "source": [
    "day30 Write a Python program to perform sentiment analysis on a given text using the TextBlob library. Display whether the sentiment is positive, negative, or neutral."
   ]
  },
  {
   "cell_type": "code",
   "execution_count": 15,
   "id": "e0753bcf",
   "metadata": {},
   "outputs": [
    {
     "name": "stdout",
     "output_type": "stream",
     "text": [
      "I love Python programming! It's so much fun.\n",
      "Sentiment: Positive\n"
     ]
    }
   ],
   "source": [
    "from textblob import TextBlob\n",
    "\n",
    "def analyze_sentiment(text):\n",
    "    # Create a TextBlob object\n",
    "    blob = TextBlob(text)\n",
    "    \n",
    "    # Get the polarity of the text\n",
    "    polarity = blob.sentiment.polarity\n",
    "    \n",
    "    # Determine if the sentiment is positive, negative, or neutral\n",
    "    if polarity > 0:\n",
    "        sentiment = \"Positive\"\n",
    "    elif polarity < 0:\n",
    "        sentiment = \"Negative\"\n",
    "    else:\n",
    "        sentiment = \"Neutral\"\n",
    "    \n",
    "    return sentiment\n",
    "\n",
    "# Example text\n",
    "text = input()\n",
    "\n",
    "# Perform sentiment analysis\n",
    "sentiment = analyze_sentiment(text)\n",
    "\n",
    "# Display the result\n",
    "print(f\"Sentiment: {sentiment}\")\n"
   ]
  },
  {
   "cell_type": "markdown",
   "id": "f9e716e6",
   "metadata": {},
   "source": [
    "day32 Write a Python program to load a text file, perform tokenization, calculate the term frequency (TF) of each token, and display the top 5 most frequent tokens.\n"
   ]
  },
  {
   "cell_type": "code",
   "execution_count": 19,
   "id": "360f48bb",
   "metadata": {},
   "outputs": [
    {
     "name": "stdout",
     "output_type": "stream",
     "text": [
      "Top 5 most frequent tokens:\n",
      "and: 5\n",
      "language: 4\n",
      "of: 3\n",
      "to: 3\n",
      "natural: 2\n"
     ]
    },
    {
     "name": "stderr",
     "output_type": "stream",
     "text": [
      "[nltk_data] Downloading package punkt to\n",
      "[nltk_data]     C:\\Users\\edbid\\AppData\\Roaming\\nltk_data...\n",
      "[nltk_data]   Package punkt is already up-to-date!\n"
     ]
    }
   ],
   "source": [
    "import nltk\n",
    "from collections import Counter\n",
    "from nltk.tokenize import word_tokenize\n",
    "\n",
    "# Download the NLTK tokenizer data (if not already downloaded)\n",
    "nltk.download('punkt')\n",
    "\n",
    "def calculate_tf(text):\n",
    "    # Tokenize the text into words\n",
    "    tokens = word_tokenize(text)\n",
    "    \n",
    "    # Remove non-alphabetic tokens (optional, depending on your requirement)\n",
    "    tokens = [token.lower() for token in tokens if token.isalpha()]\n",
    "    \n",
    "    # Calculate the term frequency (TF) using Counter\n",
    "    tf = Counter(tokens)\n",
    "    \n",
    "    return tf\n",
    "\n",
    "def main():\n",
    "    # Load the text file (replace 'your_file.txt' with your file path)\n",
    "    with open('sample_text.txt', 'r', encoding='utf-8') as file:\n",
    "        text = file.read()\n",
    "    \n",
    "    # Calculate Term Frequency\n",
    "    tf = calculate_tf(text)\n",
    "    \n",
    "    # Display the top 5 most frequent tokens\n",
    "    most_common = tf.most_common(5)\n",
    "    \n",
    "    print(\"Top 5 most frequent tokens:\")\n",
    "    for token, count in most_common:\n",
    "        print(f\"{token}: {count}\")\n",
    "\n",
    "if __name__ == \"__main__\":\n",
    "    main()\n"
   ]
  },
  {
   "cell_type": "code",
   "execution_count": null,
   "id": "e47306c4",
   "metadata": {},
   "outputs": [],
   "source": []
  },
  {
   "cell_type": "code",
   "execution_count": null,
   "id": "a32fcd6d",
   "metadata": {},
   "outputs": [],
   "source": []
  }
 ],
 "metadata": {
  "kernelspec": {
   "display_name": "Python 3 (ipykernel)",
   "language": "python",
   "name": "python3"
  },
  "language_info": {
   "codemirror_mode": {
    "name": "ipython",
    "version": 3
   },
   "file_extension": ".py",
   "mimetype": "text/x-python",
   "name": "python",
   "nbconvert_exporter": "python",
   "pygments_lexer": "ipython3",
   "version": "3.11.5"
  }
 },
 "nbformat": 4,
 "nbformat_minor": 5
}
