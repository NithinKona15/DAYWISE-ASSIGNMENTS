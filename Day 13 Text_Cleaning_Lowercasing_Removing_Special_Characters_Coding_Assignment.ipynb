{
 "cells": [
  {
   "cell_type": "markdown",
   "id": "fd51ab77",
   "metadata": {},
   "source": [
    "Write a Python function to clean a given text by removing special characters and converting it to lowercase. Test it with the input: 'Hello, World! Welcome to NLP 101.'"
   ]
  },
  {
   "cell_type": "code",
   "execution_count": 1,
   "id": "56b67a01",
   "metadata": {},
   "outputs": [
    {
     "name": "stdout",
     "output_type": "stream",
     "text": [
      "Original Text: Hello, World! Welcome to NLP 101.\n",
      "Cleaned Text: hello world welcome to nlp 101\n"
     ]
    }
   ],
   "source": [
    "import re\n",
    "\n",
    "def clean_text(text):\n",
    "    \"\"\"\n",
    "    Cleans the input text by:\n",
    "    - Removing special characters\n",
    "    - Converting to lowercase\n",
    "    \"\"\"\n",
    "    # Remove special characters using a regular expression\n",
    "    cleaned_text = re.sub(r'[^A-Za-z0-9\\s]', '', text)\n",
    "    # Convert to lowercase\n",
    "    cleaned_text = cleaned_text.lower()\n",
    "    return cleaned_text\n",
    "\n",
    "# Test the function\n",
    "input_text = 'Hello, World! Welcome to NLP 101.'\n",
    "cleaned_output = clean_text(input_text)\n",
    "print(\"Original Text:\", input_text)\n",
    "print(\"Cleaned Text:\", cleaned_output)\n"
   ]
  },
  {
   "cell_type": "code",
   "execution_count": null,
   "id": "e481cc1c",
   "metadata": {},
   "outputs": [],
   "source": []
  }
 ],
 "metadata": {
  "kernelspec": {
   "display_name": "Python 3 (ipykernel)",
   "language": "python",
   "name": "python3"
  },
  "language_info": {
   "codemirror_mode": {
    "name": "ipython",
    "version": 3
   },
   "file_extension": ".py",
   "mimetype": "text/x-python",
   "name": "python",
   "nbconvert_exporter": "python",
   "pygments_lexer": "ipython3",
   "version": "3.11.5"
  }
 },
 "nbformat": 4,
 "nbformat_minor": 5
}
