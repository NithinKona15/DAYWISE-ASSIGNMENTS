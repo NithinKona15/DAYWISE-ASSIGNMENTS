{
 "cells": [
  {
   "cell_type": "markdown",
   "id": "60623fd1",
   "metadata": {},
   "source": [
    "day24 Write a Python program to load a text file, tokenize the text using NLTK, and display the 10 most common words. Use the NLTK library for tokenization.\n"
   ]
  },
  {
   "cell_type": "code",
   "execution_count": 2,
   "id": "88056b85",
   "metadata": {},
   "outputs": [
    {
     "name": "stdout",
     "output_type": "stream",
     "text": [
      "The 10 most common words are:\n",
      "language: 4\n",
      "natural: 2\n",
      "nlp: 2\n",
      "words: 2\n",
      "analysis: 2\n",
      "processing: 1\n",
      "fascinating: 1\n",
      "domain: 1\n",
      "artificial: 1\n",
      "intelligence: 1\n"
     ]
    },
    {
     "name": "stderr",
     "output_type": "stream",
     "text": [
      "[nltk_data] Downloading package punkt to\n",
      "[nltk_data]     C:\\Users\\edbid\\AppData\\Roaming\\nltk_data...\n",
      "[nltk_data]   Package punkt is already up-to-date!\n",
      "[nltk_data] Downloading package stopwords to\n",
      "[nltk_data]     C:\\Users\\edbid\\AppData\\Roaming\\nltk_data...\n",
      "[nltk_data]   Package stopwords is already up-to-date!\n"
     ]
    }
   ],
   "source": [
    "# Install the necessary NLTK library\n",
    "# pip install nltk\n",
    "\n",
    "import nltk\n",
    "from nltk.corpus import stopwords\n",
    "from nltk.tokenize import word_tokenize\n",
    "from collections import Counter\n",
    "\n",
    "# Download required NLTK resources\n",
    "nltk.download('punkt')\n",
    "nltk.download('stopwords')\n",
    "\n",
    "def load_and_tokenize(file_path):\n",
    "    # Load the text file\n",
    "    with open(file_path, 'r') as file:\n",
    "        text = file.read()\n",
    "    \n",
    "    # Tokenize the text into words\n",
    "    words = word_tokenize(text.lower())  # Convert to lowercase for uniformity\n",
    "    \n",
    "    # Remove punctuation and stopwords\n",
    "    stop_words = set(stopwords.words('english'))\n",
    "    words = [word for word in words if word.isalnum() and word not in stop_words]\n",
    "    \n",
    "    return words\n",
    "\n",
    "def get_most_common_words(words, n=10):\n",
    "    # Get the most common words\n",
    "    word_counts = Counter(words)\n",
    "    return word_counts.most_common(n)\n",
    "\n",
    "file_path = 'sample_text.txt'  # Replace with your file path\n",
    "words = load_and_tokenize(file_path)\n",
    "common_words = get_most_common_words(words)\n",
    "\n",
    "print(\"The 10 most common words are:\")\n",
    "for word, count in common_words:\n",
    "    print(f\"{word}: {count}\")\n"
   ]
  },
  {
   "cell_type": "code",
   "execution_count": null,
   "id": "58fde5e7",
   "metadata": {},
   "outputs": [],
   "source": []
  }
 ],
 "metadata": {
  "kernelspec": {
   "display_name": "Python 3 (ipykernel)",
   "language": "python",
   "name": "python3"
  },
  "language_info": {
   "codemirror_mode": {
    "name": "ipython",
    "version": 3
   },
   "file_extension": ".py",
   "mimetype": "text/x-python",
   "name": "python",
   "nbconvert_exporter": "python",
   "pygments_lexer": "ipython3",
   "version": "3.11.5"
  }
 },
 "nbformat": 4,
 "nbformat_minor": 5
}
