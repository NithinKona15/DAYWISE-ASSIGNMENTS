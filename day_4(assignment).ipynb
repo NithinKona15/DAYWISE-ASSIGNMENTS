{
  "nbformat": 4,
  "nbformat_minor": 0,
  "metadata": {
    "colab": {
      "provenance": []
    },
    "kernelspec": {
      "name": "python3",
      "display_name": "Python 3"
    },
    "language_info": {
      "name": "python"
    }
  },
  "cells": [
    {
      "cell_type": "code",
      "execution_count": 1,
      "metadata": {
        "colab": {
          "base_uri": "https://localhost:8080/"
        },
        "id": "VkO1ljiEuLYh",
        "outputId": "7eb99bdf-8359-4615-e6c2-4d94981010ec"
      },
      "outputs": [
        {
          "output_type": "stream",
          "name": "stdout",
          "text": [
            "Enter the number:20\n",
            "total value : 110\n"
          ]
        }
      ],
      "source": [
        "#write a python program to calculate the sum of all even numbers between 1 and given positive integer n\n",
        "sum=0\n",
        "n=int(input(\"Enter the number:\"))\n",
        "for i in range(0,n+1):\n",
        "  if i%2==0:\n",
        "    sum+=i\n",
        "print(\"total value :\",sum)\n"
      ]
    }
  ]
}