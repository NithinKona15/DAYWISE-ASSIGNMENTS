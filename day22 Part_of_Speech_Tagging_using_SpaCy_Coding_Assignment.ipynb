{
 "cells": [
  {
   "cell_type": "markdown",
   "id": "5d171242",
   "metadata": {},
   "source": [
    "day 22 Write a Python script to perform part-of-speech tagging on the sentence: 'NLP is amazing and fun to learn.' using SpaCy.\n"
   ]
  },
  {
   "cell_type": "code",
   "execution_count": 2,
   "id": "e0d4d17d",
   "metadata": {},
   "outputs": [
    {
     "name": "stdout",
     "output_type": "stream",
     "text": [
      "Token    POS       Detailed POS  Explanation\n",
      "---------------------------------------------\n",
      "NLP        PROPN      NNP        noun, proper singular\n",
      "is         AUX        VBZ        verb, 3rd person singular present\n",
      "amazing    ADJ        JJ         adjective (English), other noun-modifier (Chinese)\n",
      "and        CCONJ      CC         conjunction, coordinating\n",
      "fun        ADJ        JJ         adjective (English), other noun-modifier (Chinese)\n",
      "to         PART       TO         infinitival \"to\"\n",
      "learn      VERB       VB         verb, base form\n",
      ".          PUNCT      .          punctuation mark, sentence closer\n"
     ]
    }
   ],
   "source": [
    "import spacy\n",
    "\n",
    "def pos_tagging(sentence):\n",
    "    \"\"\"\n",
    "    Perform part-of-speech tagging on the given sentence using SpaCy.\n",
    "    \"\"\"\n",
    "    # Load the SpaCy English model\n",
    "    nlp = spacy.load(\"en_core_web_sm\")\n",
    "    \n",
    "    # Process the sentence\n",
    "    doc = nlp(sentence)\n",
    "    \n",
    "    # Print each token and its part-of-speech tag\n",
    "    for token in doc:\n",
    "        print(f\"{token.text:10} {token.pos_:10} {token.tag_:10} {spacy.explain(token.tag_)}\")\n",
    "\n",
    "# Test the function\n",
    "sentence = 'NLP is amazing and fun to learn.'\n",
    "print(\"Token    POS       Detailed POS  Explanation\")\n",
    "print(\"---------------------------------------------\")\n",
    "pos_tagging(sentence)\n"
   ]
  },
  {
   "cell_type": "code",
   "execution_count": null,
   "id": "4215da0d",
   "metadata": {},
   "outputs": [],
   "source": []
  }
 ],
 "metadata": {
  "kernelspec": {
   "display_name": "Python 3 (ipykernel)",
   "language": "python",
   "name": "python3"
  },
  "language_info": {
   "codemirror_mode": {
    "name": "ipython",
    "version": 3
   },
   "file_extension": ".py",
   "mimetype": "text/x-python",
   "name": "python",
   "nbconvert_exporter": "python",
   "pygments_lexer": "ipython3",
   "version": "3.11.5"
  }
 },
 "nbformat": 4,
 "nbformat_minor": 5
}
