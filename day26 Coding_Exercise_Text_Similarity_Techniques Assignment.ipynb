{
 "cells": [
  {
   "cell_type": "markdown",
   "id": "428b14b2",
   "metadata": {},
   "source": [
    "day26 Write a Python program to calculate the cosine similarity between two strings using the Scikit-learn library. You can use the 'TfidfVectorizer' class to transform the text into vectors.\n"
   ]
  },
  {
   "cell_type": "code",
   "execution_count": 1,
   "id": "cc508320",
   "metadata": {},
   "outputs": [
    {
     "name": "stdout",
     "output_type": "stream",
     "text": [
      "Cosine Similarity between the two strings: 0.2606\n"
     ]
    }
   ],
   "source": [
    "from sklearn.feature_extraction.text import TfidfVectorizer\n",
    "from sklearn.metrics.pairwise import cosine_similarity\n",
    "\n",
    "def calculate_cosine_similarity(str1, str2):\n",
    "    # Initialize TfidfVectorizer\n",
    "    vectorizer = TfidfVectorizer()\n",
    "\n",
    "    # Convert the two input strings into TF-IDF vectors\n",
    "    tfidf_matrix = vectorizer.fit_transform([str1, str2])\n",
    "\n",
    "    # Compute the cosine similarity between the two vectors\n",
    "    cosine_sim = cosine_similarity(tfidf_matrix[0], tfidf_matrix[1])\n",
    "\n",
    "    return cosine_sim[0][0]\n",
    "\n",
    "# Example usage\n",
    "str1 = \"I love programming in Python.\"\n",
    "str2 = \"Python programming is fun and exciting.\"\n",
    "\n",
    "similarity = calculate_cosine_similarity(str1, str2)\n",
    "\n",
    "print(f\"Cosine Similarity between the two strings: {similarity:.4f}\")\n"
   ]
  },
  {
   "cell_type": "code",
   "execution_count": null,
   "id": "2772cfd4",
   "metadata": {},
   "outputs": [],
   "source": []
  }
 ],
 "metadata": {
  "kernelspec": {
   "display_name": "Python 3 (ipykernel)",
   "language": "python",
   "name": "python3"
  },
  "language_info": {
   "codemirror_mode": {
    "name": "ipython",
    "version": 3
   },
   "file_extension": ".py",
   "mimetype": "text/x-python",
   "name": "python",
   "nbconvert_exporter": "python",
   "pygments_lexer": "ipython3",
   "version": "3.11.5"
  }
 },
 "nbformat": 4,
 "nbformat_minor": 5
}
