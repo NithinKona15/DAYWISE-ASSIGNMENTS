{
 "cells": [
  {
   "cell_type": "markdown",
   "id": "65f5a400",
   "metadata": {},
   "source": [
    "day18 Write a Python script to fetch and print the title of a webpage using the 'requests' and 'BeautifulSoup' libraries. Test it with the URL: 'https://example.com'.\n"
   ]
  },
  {
   "cell_type": "code",
   "execution_count": 1,
   "id": "0c58ba07",
   "metadata": {},
   "outputs": [
    {
     "name": "stdout",
     "output_type": "stream",
     "text": [
      "Webpage Title: Example Domain\n"
     ]
    }
   ],
   "source": [
    "import requests\n",
    "from bs4 import BeautifulSoup\n",
    "\n",
    "def fetch_webpage_title(url):\n",
    "    \"\"\"\n",
    "    Fetches and prints the title of a webpage.\n",
    "    \"\"\"\n",
    "    try:\n",
    "        # Send an HTTP GET request to the specified URL\n",
    "        response = requests.get(url)\n",
    "        # Check if the request was successful\n",
    "        response.raise_for_status()\n",
    "        \n",
    "        # Parse the webpage content with BeautifulSoup\n",
    "        soup = BeautifulSoup(response.text, 'html.parser')\n",
    "        \n",
    "        # Extract and return the title\n",
    "        title = soup.title.string if soup.title else \"No title found\"\n",
    "        return title\n",
    "    except requests.exceptions.RequestException as e:\n",
    "        return f\"An error occurred: {e}\"\n",
    "\n",
    "# Test the function\n",
    "url = 'https://example.com'\n",
    "webpage_title = fetch_webpage_title(url)\n",
    "print(\"Webpage Title:\", webpage_title)\n"
   ]
  },
  {
   "cell_type": "code",
   "execution_count": null,
   "id": "cb1a51e4",
   "metadata": {},
   "outputs": [],
   "source": []
  }
 ],
 "metadata": {
  "kernelspec": {
   "display_name": "Python 3 (ipykernel)",
   "language": "python",
   "name": "python3"
  },
  "language_info": {
   "codemirror_mode": {
    "name": "ipython",
    "version": 3
   },
   "file_extension": ".py",
   "mimetype": "text/x-python",
   "name": "python",
   "nbconvert_exporter": "python",
   "pygments_lexer": "ipython3",
   "version": "3.11.5"
  }
 },
 "nbformat": 4,
 "nbformat_minor": 5
}
