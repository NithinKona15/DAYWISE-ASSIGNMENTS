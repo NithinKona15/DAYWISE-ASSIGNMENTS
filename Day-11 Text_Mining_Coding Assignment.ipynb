{
 "cells": [
  {
   "cell_type": "markdown",
   "id": "88d02835",
   "metadata": {},
   "source": [
    "Write a Python script that:\n",
    " Tokenizes a sample paragraph into words and sentences.\n"
   ]
  },
  {
   "cell_type": "code",
   "execution_count": 3,
   "id": "677c46ae",
   "metadata": {},
   "outputs": [
    {
     "name": "stderr",
     "output_type": "stream",
     "text": [
      "[nltk_data] Downloading package punkt to\n",
      "[nltk_data]     C:\\Users\\edbid\\AppData\\Roaming\\nltk_data...\n",
      "[nltk_data]   Package punkt is already up-to-date!\n",
      "[nltk_data] Downloading package punkt_tab to\n",
      "[nltk_data]     C:\\Users\\edbid\\AppData\\Roaming\\nltk_data...\n",
      "[nltk_data]   Unzipping tokenizers\\punkt_tab.zip.\n"
     ]
    },
    {
     "name": "stdout",
     "output_type": "stream",
     "text": [
      "Tokenized Sentences:\n",
      "1: \n",
      "Natural Language Processing (NLP) is an exciting field of artificial intelligence.\n",
      "2: It focuses on the interaction between computers and human language.\n",
      "3: By using tokenization, stemming, and lemmatization, NLP enables better text analysis.\n",
      "4: Applications include chatbots, sentiment analysis, and language translation.\n",
      "\n",
      "Tokenized Words:\n",
      "['Natural', 'Language', 'Processing', '(', 'NLP', ')', 'is', 'an', 'exciting', 'field', 'of', 'artificial', 'intelligence', '.', 'It', 'focuses', 'on', 'the', 'interaction', 'between', 'computers', 'and', 'human', 'language', '.', 'By', 'using', 'tokenization', ',', 'stemming', ',', 'and', 'lemmatization', ',', 'NLP', 'enables', 'better', 'text', 'analysis', '.', 'Applications', 'include', 'chatbots', ',', 'sentiment', 'analysis', ',', 'and', 'language', 'translation', '.']\n"
     ]
    }
   ],
   "source": [
    "import nltk\n",
    "\n",
    "# Download required NLTK data\n",
    "nltk.download('punkt')\n",
    "nltk.download('punkt_tab')\n",
    "# Sample paragraph\n",
    "paragraph = \"\"\"\n",
    "Natural Language Processing (NLP) is an exciting field of artificial intelligence.\n",
    "It focuses on the interaction between computers and human language.\n",
    "By using tokenization, stemming, and lemmatization, NLP enables better text analysis.\n",
    "Applications include chatbots, sentiment analysis, and language translation.\n",
    "\"\"\"\n",
    "\n",
    "# Tokenize into sentences\n",
    "sentences = nltk.sent_tokenize(paragraph)\n",
    "print(\"Tokenized Sentences:\")\n",
    "for idx, sentence in enumerate(sentences, 1):\n",
    "    print(f\"{idx}: {sentence}\")\n",
    "\n",
    "# Tokenize into words\n",
    "words = nltk.word_tokenize(paragraph)\n",
    "print(\"\\nTokenized Words:\")\n",
    "print(words)\n"
   ]
  },
  {
   "cell_type": "code",
   "execution_count": null,
   "id": "b107f46c",
   "metadata": {},
   "outputs": [],
   "source": []
  }
 ],
 "metadata": {
  "kernelspec": {
   "display_name": "Python 3 (ipykernel)",
   "language": "python",
   "name": "python3"
  },
  "language_info": {
   "codemirror_mode": {
    "name": "ipython",
    "version": 3
   },
   "file_extension": ".py",
   "mimetype": "text/x-python",
   "name": "python",
   "nbconvert_exporter": "python",
   "pygments_lexer": "ipython3",
   "version": "3.11.5"
  }
 },
 "nbformat": 4,
 "nbformat_minor": 5
}
