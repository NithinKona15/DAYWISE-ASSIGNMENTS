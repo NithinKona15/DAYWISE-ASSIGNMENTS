{
 "cells": [
  {
   "cell_type": "markdown",
   "id": "84993f4e",
   "metadata": {},
   "source": [
    "day32 Write a Python program to load a text file, perform tokenization, calculate the term frequency (TF) of each token, and display the top 5 most frequent tokens."
   ]
  },
  {
   "cell_type": "code",
   "execution_count": 1,
   "id": "2cf7932e",
   "metadata": {},
   "outputs": [
    {
     "name": "stdout",
     "output_type": "stream",
     "text": [
      "Top 5 most frequent tokens:\n",
      "and: 5\n",
      "language: 4\n",
      "of: 3\n",
      "to: 3\n",
      "natural: 2\n"
     ]
    },
    {
     "name": "stderr",
     "output_type": "stream",
     "text": [
      "[nltk_data] Downloading package punkt to\n",
      "[nltk_data]     C:\\Users\\edbid\\AppData\\Roaming\\nltk_data...\n",
      "[nltk_data]   Package punkt is already up-to-date!\n"
     ]
    }
   ],
   "source": [
    "import nltk\n",
    "from collections import Counter\n",
    "from nltk.tokenize import word_tokenize\n",
    "\n",
    "# Download the NLTK tokenizer data (if not already downloaded)\n",
    "nltk.download('punkt')\n",
    "\n",
    "def calculate_tf(text):\n",
    "    # Tokenize the text into words\n",
    "    tokens = word_tokenize(text)\n",
    "    \n",
    "    # Remove non-alphabetic tokens (optional, depending on your requirement)\n",
    "    tokens = [token.lower() for token in tokens if token.isalpha()]\n",
    "    \n",
    "    # Calculate the term frequency (TF) using Counter\n",
    "    tf = Counter(tokens)\n",
    "    \n",
    "    return tf\n",
    "\n",
    "def main():\n",
    "    # Load the text file (replace 'your_file.txt' with your file path)\n",
    "    with open('sample_text.txt', 'r', encoding='utf-8') as file:\n",
    "        text = file.read()\n",
    "    \n",
    "    # Calculate Term Frequency\n",
    "    tf = calculate_tf(text)\n",
    "    \n",
    "    # Display the top 5 most frequent tokens\n",
    "    most_common = tf.most_common(5)\n",
    "    \n",
    "    print(\"Top 5 most frequent tokens:\")\n",
    "    for token, count in most_common:\n",
    "        print(f\"{token}: {count}\")\n",
    "\n",
    "if __name__ == \"__main__\":\n",
    "    main()\n"
   ]
  },
  {
   "cell_type": "code",
   "execution_count": null,
   "id": "7344297f",
   "metadata": {},
   "outputs": [],
   "source": []
  }
 ],
 "metadata": {
  "kernelspec": {
   "display_name": "Python 3 (ipykernel)",
   "language": "python",
   "name": "python3"
  },
  "language_info": {
   "codemirror_mode": {
    "name": "ipython",
    "version": 3
   },
   "file_extension": ".py",
   "mimetype": "text/x-python",
   "name": "python",
   "nbconvert_exporter": "python",
   "pygments_lexer": "ipython3",
   "version": "3.11.5"
  }
 },
 "nbformat": 4,
 "nbformat_minor": 5
}
